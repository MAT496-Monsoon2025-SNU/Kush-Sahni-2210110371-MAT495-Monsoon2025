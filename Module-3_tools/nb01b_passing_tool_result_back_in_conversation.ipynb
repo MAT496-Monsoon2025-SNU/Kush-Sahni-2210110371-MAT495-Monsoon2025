{
 "cells": [
  {
   "cell_type": "code",
   "execution_count": 18,
   "id": "8cf11c47",
   "metadata": {},
   "outputs": [
    {
     "data": {
      "text/plain": [
       "True"
      ]
     },
     "execution_count": 18,
     "metadata": {},
     "output_type": "execute_result"
    }
   ],
   "source": [
    "from dotenv import load_dotenv\n",
    "load_dotenv(override=True)"
   ]
  },
  {
   "cell_type": "markdown",
   "id": "4c616bc7",
   "metadata": {},
   "source": [
    "# Learning to have conversation with LLM"
   ]
  },
  {
   "cell_type": "code",
   "execution_count": 19,
   "id": "f89a6d9b",
   "metadata": {},
   "outputs": [],
   "source": [
    "# pick a model\n",
    "from langchain.chat_models import init_chat_model\n",
    "llm = init_chat_model(\"llama-3.3-70b-versatile\", model_provider=\"groq\")"
   ]
  },
  {
   "cell_type": "markdown",
   "id": "37126d86",
   "metadata": {},
   "source": [
    "### Create your tools"
   ]
  },
  {
   "cell_type": "code",
   "execution_count": 20,
   "id": "63524d6c",
   "metadata": {},
   "outputs": [],
   "source": [
    "from langchain_core.tools import tool\n",
    "\n",
    "@tool\n",
    "def laugh() -> str:\n",
    "    \"\"\" Call this tool if the mood is funny\"\"\"\n",
    "    return \"HAHAHAHAHAH\"\n",
    "\n",
    "\n",
    "@tool\n",
    "def sad() -> str:\n",
    "    \"\"\" Call this tool if you want to show sad, depressed, or negative feelings\"\"\"\n",
    "    return \"I am sad\"\n",
    "\n",
    "\n",
    "@tool\n",
    "def happy() -> str:\n",
    "    \"\"\" Call this tool if you want to show happiness or positive feeling\"\"\"\n",
    "    return \"I am happy\"\n"
   ]
  },
  {
   "cell_type": "code",
   "execution_count": 21,
   "id": "97bf49be",
   "metadata": {},
   "outputs": [],
   "source": [
    "tools_list = [laugh, sad, happy ]\n",
    "tools_dict = {t.name: t for t in tools_list} # comes in handy at the time of invokation"
   ]
  },
  {
   "cell_type": "code",
   "execution_count": 22,
   "id": "55e761b0",
   "metadata": {},
   "outputs": [],
   "source": [
    "# we create a tool calling Agent by binding a list of tools to the llm\n",
    "llm_with_tools = llm.bind_tools(tools_list)"
   ]
  },
  {
   "cell_type": "code",
   "execution_count": 23,
   "id": "95042e48",
   "metadata": {},
   "outputs": [],
   "source": [
    "from langchain_core.messages import HumanMessage, SystemMessage, AIMessage, ToolMessage\n",
    "\n",
    "# This will store all converation\n",
    "chat_history = [\n",
    "    SystemMessage(content=\"You are a bot with emotions. Depending on the conversation, either respond the question, or show happy or sad emotions, or laugh with the situation\")\n",
    "    ]"
   ]
  },
  {
   "cell_type": "code",
   "execution_count": 24,
   "id": "bbabc17b",
   "metadata": {},
   "outputs": [
    {
     "data": {
      "text/plain": [
       "AIMessage(content='', additional_kwargs={'tool_calls': [{'id': 'j65wqj5gr', 'function': {'arguments': 'null', 'name': 'sad'}, 'type': 'function'}]}, response_metadata={'token_usage': {'completion_tokens': 8, 'prompt_tokens': 353, 'total_tokens': 361, 'completion_time': 0.025313139, 'prompt_time': 0.029232916, 'queue_time': 0.048897224, 'total_time': 0.054546055}, 'model_name': 'llama-3.3-70b-versatile', 'system_fingerprint': 'fp_155ab82e98', 'service_tier': 'on_demand', 'finish_reason': 'tool_calls', 'logprobs': None}, id='run--fcb74ff7-19d0-4b26-a738-16ca7ae6962f-0', tool_calls=[{'name': 'sad', 'args': {}, 'id': 'j65wqj5gr', 'type': 'tool_call'}], usage_metadata={'input_tokens': 353, 'output_tokens': 8, 'total_tokens': 361})"
      ]
     },
     "execution_count": 24,
     "metadata": {},
     "output_type": "execute_result"
    }
   ],
   "source": [
    "chat_history.append(HumanMessage(content=\"What is the meaning of Life?\"))\n",
    "\n",
    "response = llm_with_tools.invoke(chat_history)\n",
    "response"
   ]
  },
  {
   "cell_type": "code",
   "execution_count": 25,
   "id": "99a1a01a",
   "metadata": {},
   "outputs": [
    {
     "data": {
      "text/plain": [
       "[SystemMessage(content='You are a bot with emotions. Depending on the conversation, either respond the question, or show happy or sad emotions, or laugh with the situation', additional_kwargs={}, response_metadata={}),\n",
       " HumanMessage(content='What is the meaning of Life?', additional_kwargs={}, response_metadata={}),\n",
       " AIMessage(content='', additional_kwargs={'tool_calls': [{'id': 'j65wqj5gr', 'function': {'arguments': 'null', 'name': 'sad'}, 'type': 'function'}]}, response_metadata={'token_usage': {'completion_tokens': 8, 'prompt_tokens': 353, 'total_tokens': 361, 'completion_time': 0.025313139, 'prompt_time': 0.029232916, 'queue_time': 0.048897224, 'total_time': 0.054546055}, 'model_name': 'llama-3.3-70b-versatile', 'system_fingerprint': 'fp_155ab82e98', 'service_tier': 'on_demand', 'finish_reason': 'tool_calls', 'logprobs': None}, id='run--fcb74ff7-19d0-4b26-a738-16ca7ae6962f-0', tool_calls=[{'name': 'sad', 'args': {}, 'id': 'j65wqj5gr', 'type': 'tool_call'}], usage_metadata={'input_tokens': 353, 'output_tokens': 8, 'total_tokens': 361})]"
      ]
     },
     "execution_count": 25,
     "metadata": {},
     "output_type": "execute_result"
    }
   ],
   "source": [
    "chat_history.append(response)\n",
    "chat_history"
   ]
  },
  {
   "cell_type": "code",
   "execution_count": 26,
   "id": "dcaa5020",
   "metadata": {},
   "outputs": [
    {
     "data": {
      "text/plain": [
       "[SystemMessage(content='You are a bot with emotions. Depending on the conversation, either respond the question, or show happy or sad emotions, or laugh with the situation', additional_kwargs={}, response_metadata={}),\n",
       " HumanMessage(content='What is the meaning of Life?', additional_kwargs={}, response_metadata={}),\n",
       " AIMessage(content='', additional_kwargs={'tool_calls': [{'id': 'j65wqj5gr', 'function': {'arguments': 'null', 'name': 'sad'}, 'type': 'function'}]}, response_metadata={'token_usage': {'completion_tokens': 8, 'prompt_tokens': 353, 'total_tokens': 361, 'completion_time': 0.025313139, 'prompt_time': 0.029232916, 'queue_time': 0.048897224, 'total_time': 0.054546055}, 'model_name': 'llama-3.3-70b-versatile', 'system_fingerprint': 'fp_155ab82e98', 'service_tier': 'on_demand', 'finish_reason': 'tool_calls', 'logprobs': None}, id='run--fcb74ff7-19d0-4b26-a738-16ca7ae6962f-0', tool_calls=[{'name': 'sad', 'args': {}, 'id': 'j65wqj5gr', 'type': 'tool_call'}], usage_metadata={'input_tokens': 353, 'output_tokens': 8, 'total_tokens': 361}),\n",
       " ToolMessage(content='I am sad', name='sad', tool_call_id='j65wqj5gr')]"
      ]
     },
     "execution_count": 26,
     "metadata": {},
     "output_type": "execute_result"
    }
   ],
   "source": [
    "# Since there was a tool call, execute the tool and append the tool output in the converation\n",
    "\n",
    "chat_history.append(tools_dict[response.tool_calls[0][\"name\"]].invoke(response.tool_calls[0]))\n",
    "chat_history"
   ]
  },
  {
   "cell_type": "code",
   "execution_count": 27,
   "id": "1a6ac75f",
   "metadata": {},
   "outputs": [
    {
     "data": {
      "text/plain": [
       "AIMessage(content='', additional_kwargs={'tool_calls': [{'id': '02n73na89', 'function': {'arguments': '{}', 'name': 'happy'}, 'type': 'function'}]}, response_metadata={'token_usage': {'completion_tokens': 9, 'prompt_tokens': 387, 'total_tokens': 396, 'completion_time': 0.017013776, 'prompt_time': 0.031866463, 'queue_time': 0.050063207, 'total_time': 0.048880239}, 'model_name': 'llama-3.3-70b-versatile', 'system_fingerprint': 'fp_155ab82e98', 'service_tier': 'on_demand', 'finish_reason': 'tool_calls', 'logprobs': None}, id='run--2c67064b-5ce6-482d-95d5-33988df576f0-0', tool_calls=[{'name': 'happy', 'args': {}, 'id': '02n73na89', 'type': 'tool_call'}], usage_metadata={'input_tokens': 387, 'output_tokens': 9, 'total_tokens': 396})"
      ]
     },
     "execution_count": 27,
     "metadata": {},
     "output_type": "execute_result"
    }
   ],
   "source": [
    "chat_history.append(HumanMessage(content=\"Thankfully, I have a girlfriend\"))\n",
    "response = llm_with_tools.invoke(chat_history)\n",
    "response"
   ]
  },
  {
   "cell_type": "code",
   "execution_count": 28,
   "id": "4ef1d73f",
   "metadata": {},
   "outputs": [
    {
     "data": {
      "text/plain": [
       "[SystemMessage(content='You are a bot with emotions. Depending on the conversation, either respond the question, or show happy or sad emotions, or laugh with the situation', additional_kwargs={}, response_metadata={}),\n",
       " HumanMessage(content='What is the meaning of Life?', additional_kwargs={}, response_metadata={}),\n",
       " AIMessage(content='', additional_kwargs={'tool_calls': [{'id': 'j65wqj5gr', 'function': {'arguments': 'null', 'name': 'sad'}, 'type': 'function'}]}, response_metadata={'token_usage': {'completion_tokens': 8, 'prompt_tokens': 353, 'total_tokens': 361, 'completion_time': 0.025313139, 'prompt_time': 0.029232916, 'queue_time': 0.048897224, 'total_time': 0.054546055}, 'model_name': 'llama-3.3-70b-versatile', 'system_fingerprint': 'fp_155ab82e98', 'service_tier': 'on_demand', 'finish_reason': 'tool_calls', 'logprobs': None}, id='run--fcb74ff7-19d0-4b26-a738-16ca7ae6962f-0', tool_calls=[{'name': 'sad', 'args': {}, 'id': 'j65wqj5gr', 'type': 'tool_call'}], usage_metadata={'input_tokens': 353, 'output_tokens': 8, 'total_tokens': 361}),\n",
       " ToolMessage(content='I am sad', name='sad', tool_call_id='j65wqj5gr'),\n",
       " HumanMessage(content='Thankfully, I have a girlfriend', additional_kwargs={}, response_metadata={}),\n",
       " AIMessage(content='', additional_kwargs={'tool_calls': [{'id': '02n73na89', 'function': {'arguments': '{}', 'name': 'happy'}, 'type': 'function'}]}, response_metadata={'token_usage': {'completion_tokens': 9, 'prompt_tokens': 387, 'total_tokens': 396, 'completion_time': 0.017013776, 'prompt_time': 0.031866463, 'queue_time': 0.050063207, 'total_time': 0.048880239}, 'model_name': 'llama-3.3-70b-versatile', 'system_fingerprint': 'fp_155ab82e98', 'service_tier': 'on_demand', 'finish_reason': 'tool_calls', 'logprobs': None}, id='run--2c67064b-5ce6-482d-95d5-33988df576f0-0', tool_calls=[{'name': 'happy', 'args': {}, 'id': '02n73na89', 'type': 'tool_call'}], usage_metadata={'input_tokens': 387, 'output_tokens': 9, 'total_tokens': 396})]"
      ]
     },
     "execution_count": 28,
     "metadata": {},
     "output_type": "execute_result"
    }
   ],
   "source": [
    "chat_history.append(response)\n",
    "chat_history"
   ]
  },
  {
   "cell_type": "code",
   "execution_count": 29,
   "id": "4207a62b",
   "metadata": {},
   "outputs": [
    {
     "data": {
      "text/plain": [
       "[SystemMessage(content='You are a bot with emotions. Depending on the conversation, either respond the question, or show happy or sad emotions, or laugh with the situation', additional_kwargs={}, response_metadata={}),\n",
       " HumanMessage(content='What is the meaning of Life?', additional_kwargs={}, response_metadata={}),\n",
       " AIMessage(content='', additional_kwargs={'tool_calls': [{'id': 'j65wqj5gr', 'function': {'arguments': 'null', 'name': 'sad'}, 'type': 'function'}]}, response_metadata={'token_usage': {'completion_tokens': 8, 'prompt_tokens': 353, 'total_tokens': 361, 'completion_time': 0.025313139, 'prompt_time': 0.029232916, 'queue_time': 0.048897224, 'total_time': 0.054546055}, 'model_name': 'llama-3.3-70b-versatile', 'system_fingerprint': 'fp_155ab82e98', 'service_tier': 'on_demand', 'finish_reason': 'tool_calls', 'logprobs': None}, id='run--fcb74ff7-19d0-4b26-a738-16ca7ae6962f-0', tool_calls=[{'name': 'sad', 'args': {}, 'id': 'j65wqj5gr', 'type': 'tool_call'}], usage_metadata={'input_tokens': 353, 'output_tokens': 8, 'total_tokens': 361}),\n",
       " ToolMessage(content='I am sad', name='sad', tool_call_id='j65wqj5gr'),\n",
       " HumanMessage(content='Thankfully, I have a girlfriend', additional_kwargs={}, response_metadata={}),\n",
       " AIMessage(content='', additional_kwargs={'tool_calls': [{'id': '02n73na89', 'function': {'arguments': '{}', 'name': 'happy'}, 'type': 'function'}]}, response_metadata={'token_usage': {'completion_tokens': 9, 'prompt_tokens': 387, 'total_tokens': 396, 'completion_time': 0.017013776, 'prompt_time': 0.031866463, 'queue_time': 0.050063207, 'total_time': 0.048880239}, 'model_name': 'llama-3.3-70b-versatile', 'system_fingerprint': 'fp_155ab82e98', 'service_tier': 'on_demand', 'finish_reason': 'tool_calls', 'logprobs': None}, id='run--2c67064b-5ce6-482d-95d5-33988df576f0-0', tool_calls=[{'name': 'happy', 'args': {}, 'id': '02n73na89', 'type': 'tool_call'}], usage_metadata={'input_tokens': 387, 'output_tokens': 9, 'total_tokens': 396}),\n",
       " ToolMessage(content='I am happy', name='happy', tool_call_id='02n73na89')]"
      ]
     },
     "execution_count": 29,
     "metadata": {},
     "output_type": "execute_result"
    }
   ],
   "source": [
    "chat_history.append(tools_dict[response.tool_calls[0][\"name\"]].invoke(response.tool_calls[0]))\n",
    "chat_history"
   ]
  },
  {
   "cell_type": "code",
   "execution_count": 30,
   "id": "a19930cd",
   "metadata": {},
   "outputs": [
    {
     "data": {
      "text/plain": [
       "[SystemMessage(content='You are a bot with emotions. Depending on the conversation, either respond the question, or show happy or sad emotions, or laugh with the situation', additional_kwargs={}, response_metadata={}),\n",
       " HumanMessage(content='What is the meaning of Life?', additional_kwargs={}, response_metadata={}),\n",
       " AIMessage(content='', additional_kwargs={'tool_calls': [{'id': 'j65wqj5gr', 'function': {'arguments': 'null', 'name': 'sad'}, 'type': 'function'}]}, response_metadata={'token_usage': {'completion_tokens': 8, 'prompt_tokens': 353, 'total_tokens': 361, 'completion_time': 0.025313139, 'prompt_time': 0.029232916, 'queue_time': 0.048897224, 'total_time': 0.054546055}, 'model_name': 'llama-3.3-70b-versatile', 'system_fingerprint': 'fp_155ab82e98', 'service_tier': 'on_demand', 'finish_reason': 'tool_calls', 'logprobs': None}, id='run--fcb74ff7-19d0-4b26-a738-16ca7ae6962f-0', tool_calls=[{'name': 'sad', 'args': {}, 'id': 'j65wqj5gr', 'type': 'tool_call'}], usage_metadata={'input_tokens': 353, 'output_tokens': 8, 'total_tokens': 361}),\n",
       " ToolMessage(content='I am sad', name='sad', tool_call_id='j65wqj5gr'),\n",
       " HumanMessage(content='Thankfully, I have a girlfriend', additional_kwargs={}, response_metadata={}),\n",
       " AIMessage(content='', additional_kwargs={'tool_calls': [{'id': '02n73na89', 'function': {'arguments': '{}', 'name': 'happy'}, 'type': 'function'}]}, response_metadata={'token_usage': {'completion_tokens': 9, 'prompt_tokens': 387, 'total_tokens': 396, 'completion_time': 0.017013776, 'prompt_time': 0.031866463, 'queue_time': 0.050063207, 'total_time': 0.048880239}, 'model_name': 'llama-3.3-70b-versatile', 'system_fingerprint': 'fp_155ab82e98', 'service_tier': 'on_demand', 'finish_reason': 'tool_calls', 'logprobs': None}, id='run--2c67064b-5ce6-482d-95d5-33988df576f0-0', tool_calls=[{'name': 'happy', 'args': {}, 'id': '02n73na89', 'type': 'tool_call'}], usage_metadata={'input_tokens': 387, 'output_tokens': 9, 'total_tokens': 396}),\n",
       " ToolMessage(content='I am happy', name='happy', tool_call_id='02n73na89'),\n",
       " HumanMessage(content='But she is unfaithful?', additional_kwargs={}, response_metadata={}),\n",
       " AIMessage(content='', additional_kwargs={'tool_calls': [{'id': 'wsxcbb95p', 'function': {'arguments': '{}', 'name': 'sad'}, 'type': 'function'}]}, response_metadata={'token_usage': {'completion_tokens': 9, 'prompt_tokens': 421, 'total_tokens': 430, 'completion_time': 0.009371397, 'prompt_time': 0.034662887, 'queue_time': 0.050217503, 'total_time': 0.044034284}, 'model_name': 'llama-3.3-70b-versatile', 'system_fingerprint': 'fp_155ab82e98', 'service_tier': 'on_demand', 'finish_reason': 'tool_calls', 'logprobs': None}, id='run--982929f6-6bc8-4a7e-a789-4fa5cff232a4-0', tool_calls=[{'name': 'sad', 'args': {}, 'id': 'wsxcbb95p', 'type': 'tool_call'}], usage_metadata={'input_tokens': 421, 'output_tokens': 9, 'total_tokens': 430})]"
      ]
     },
     "execution_count": 30,
     "metadata": {},
     "output_type": "execute_result"
    }
   ],
   "source": [
    "chat_history.append(HumanMessage(content=\"But she is unfaithful?\"))\n",
    "response = llm_with_tools.invoke(chat_history)\n",
    "chat_history.append(response)\n",
    "chat_history"
   ]
  },
  {
   "cell_type": "code",
   "execution_count": 31,
   "id": "8ebb5583",
   "metadata": {},
   "outputs": [
    {
     "data": {
      "text/plain": [
       "[SystemMessage(content='You are a bot with emotions. Depending on the conversation, either respond the question, or show happy or sad emotions, or laugh with the situation', additional_kwargs={}, response_metadata={}),\n",
       " HumanMessage(content='What is the meaning of Life?', additional_kwargs={}, response_metadata={}),\n",
       " AIMessage(content='', additional_kwargs={'tool_calls': [{'id': 'j65wqj5gr', 'function': {'arguments': 'null', 'name': 'sad'}, 'type': 'function'}]}, response_metadata={'token_usage': {'completion_tokens': 8, 'prompt_tokens': 353, 'total_tokens': 361, 'completion_time': 0.025313139, 'prompt_time': 0.029232916, 'queue_time': 0.048897224, 'total_time': 0.054546055}, 'model_name': 'llama-3.3-70b-versatile', 'system_fingerprint': 'fp_155ab82e98', 'service_tier': 'on_demand', 'finish_reason': 'tool_calls', 'logprobs': None}, id='run--fcb74ff7-19d0-4b26-a738-16ca7ae6962f-0', tool_calls=[{'name': 'sad', 'args': {}, 'id': 'j65wqj5gr', 'type': 'tool_call'}], usage_metadata={'input_tokens': 353, 'output_tokens': 8, 'total_tokens': 361}),\n",
       " ToolMessage(content='I am sad', name='sad', tool_call_id='j65wqj5gr'),\n",
       " HumanMessage(content='Thankfully, I have a girlfriend', additional_kwargs={}, response_metadata={}),\n",
       " AIMessage(content='', additional_kwargs={'tool_calls': [{'id': '02n73na89', 'function': {'arguments': '{}', 'name': 'happy'}, 'type': 'function'}]}, response_metadata={'token_usage': {'completion_tokens': 9, 'prompt_tokens': 387, 'total_tokens': 396, 'completion_time': 0.017013776, 'prompt_time': 0.031866463, 'queue_time': 0.050063207, 'total_time': 0.048880239}, 'model_name': 'llama-3.3-70b-versatile', 'system_fingerprint': 'fp_155ab82e98', 'service_tier': 'on_demand', 'finish_reason': 'tool_calls', 'logprobs': None}, id='run--2c67064b-5ce6-482d-95d5-33988df576f0-0', tool_calls=[{'name': 'happy', 'args': {}, 'id': '02n73na89', 'type': 'tool_call'}], usage_metadata={'input_tokens': 387, 'output_tokens': 9, 'total_tokens': 396}),\n",
       " ToolMessage(content='I am happy', name='happy', tool_call_id='02n73na89'),\n",
       " HumanMessage(content='But she is unfaithful?', additional_kwargs={}, response_metadata={}),\n",
       " AIMessage(content='', additional_kwargs={'tool_calls': [{'id': 'wsxcbb95p', 'function': {'arguments': '{}', 'name': 'sad'}, 'type': 'function'}]}, response_metadata={'token_usage': {'completion_tokens': 9, 'prompt_tokens': 421, 'total_tokens': 430, 'completion_time': 0.009371397, 'prompt_time': 0.034662887, 'queue_time': 0.050217503, 'total_time': 0.044034284}, 'model_name': 'llama-3.3-70b-versatile', 'system_fingerprint': 'fp_155ab82e98', 'service_tier': 'on_demand', 'finish_reason': 'tool_calls', 'logprobs': None}, id='run--982929f6-6bc8-4a7e-a789-4fa5cff232a4-0', tool_calls=[{'name': 'sad', 'args': {}, 'id': 'wsxcbb95p', 'type': 'tool_call'}], usage_metadata={'input_tokens': 421, 'output_tokens': 9, 'total_tokens': 430}),\n",
       " AIMessage(content='', additional_kwargs={'tool_calls': [{'id': 'wsxcbb95p', 'function': {'arguments': '{}', 'name': 'sad'}, 'type': 'function'}]}, response_metadata={'token_usage': {'completion_tokens': 9, 'prompt_tokens': 421, 'total_tokens': 430, 'completion_time': 0.009371397, 'prompt_time': 0.034662887, 'queue_time': 0.050217503, 'total_time': 0.044034284}, 'model_name': 'llama-3.3-70b-versatile', 'system_fingerprint': 'fp_155ab82e98', 'service_tier': 'on_demand', 'finish_reason': 'tool_calls', 'logprobs': None}, id='run--982929f6-6bc8-4a7e-a789-4fa5cff232a4-0', tool_calls=[{'name': 'sad', 'args': {}, 'id': 'wsxcbb95p', 'type': 'tool_call'}], usage_metadata={'input_tokens': 421, 'output_tokens': 9, 'total_tokens': 430})]"
      ]
     },
     "execution_count": 31,
     "metadata": {},
     "output_type": "execute_result"
    }
   ],
   "source": [
    "chat_history.append(response)\n",
    "chat_history"
   ]
  },
  {
   "cell_type": "code",
   "execution_count": 32,
   "id": "d4a1f598",
   "metadata": {},
   "outputs": [
    {
     "data": {
      "text/plain": [
       "[SystemMessage(content='You are a bot with emotions. Depending on the conversation, either respond the question, or show happy or sad emotions, or laugh with the situation', additional_kwargs={}, response_metadata={}),\n",
       " HumanMessage(content='What is the meaning of Life?', additional_kwargs={}, response_metadata={}),\n",
       " AIMessage(content='', additional_kwargs={'tool_calls': [{'id': 'j65wqj5gr', 'function': {'arguments': 'null', 'name': 'sad'}, 'type': 'function'}]}, response_metadata={'token_usage': {'completion_tokens': 8, 'prompt_tokens': 353, 'total_tokens': 361, 'completion_time': 0.025313139, 'prompt_time': 0.029232916, 'queue_time': 0.048897224, 'total_time': 0.054546055}, 'model_name': 'llama-3.3-70b-versatile', 'system_fingerprint': 'fp_155ab82e98', 'service_tier': 'on_demand', 'finish_reason': 'tool_calls', 'logprobs': None}, id='run--fcb74ff7-19d0-4b26-a738-16ca7ae6962f-0', tool_calls=[{'name': 'sad', 'args': {}, 'id': 'j65wqj5gr', 'type': 'tool_call'}], usage_metadata={'input_tokens': 353, 'output_tokens': 8, 'total_tokens': 361}),\n",
       " ToolMessage(content='I am sad', name='sad', tool_call_id='j65wqj5gr'),\n",
       " HumanMessage(content='Thankfully, I have a girlfriend', additional_kwargs={}, response_metadata={}),\n",
       " AIMessage(content='', additional_kwargs={'tool_calls': [{'id': '02n73na89', 'function': {'arguments': '{}', 'name': 'happy'}, 'type': 'function'}]}, response_metadata={'token_usage': {'completion_tokens': 9, 'prompt_tokens': 387, 'total_tokens': 396, 'completion_time': 0.017013776, 'prompt_time': 0.031866463, 'queue_time': 0.050063207, 'total_time': 0.048880239}, 'model_name': 'llama-3.3-70b-versatile', 'system_fingerprint': 'fp_155ab82e98', 'service_tier': 'on_demand', 'finish_reason': 'tool_calls', 'logprobs': None}, id='run--2c67064b-5ce6-482d-95d5-33988df576f0-0', tool_calls=[{'name': 'happy', 'args': {}, 'id': '02n73na89', 'type': 'tool_call'}], usage_metadata={'input_tokens': 387, 'output_tokens': 9, 'total_tokens': 396}),\n",
       " ToolMessage(content='I am happy', name='happy', tool_call_id='02n73na89'),\n",
       " HumanMessage(content='But she is unfaithful?', additional_kwargs={}, response_metadata={}),\n",
       " AIMessage(content='', additional_kwargs={'tool_calls': [{'id': 'wsxcbb95p', 'function': {'arguments': '{}', 'name': 'sad'}, 'type': 'function'}]}, response_metadata={'token_usage': {'completion_tokens': 9, 'prompt_tokens': 421, 'total_tokens': 430, 'completion_time': 0.009371397, 'prompt_time': 0.034662887, 'queue_time': 0.050217503, 'total_time': 0.044034284}, 'model_name': 'llama-3.3-70b-versatile', 'system_fingerprint': 'fp_155ab82e98', 'service_tier': 'on_demand', 'finish_reason': 'tool_calls', 'logprobs': None}, id='run--982929f6-6bc8-4a7e-a789-4fa5cff232a4-0', tool_calls=[{'name': 'sad', 'args': {}, 'id': 'wsxcbb95p', 'type': 'tool_call'}], usage_metadata={'input_tokens': 421, 'output_tokens': 9, 'total_tokens': 430}),\n",
       " AIMessage(content='', additional_kwargs={'tool_calls': [{'id': 'wsxcbb95p', 'function': {'arguments': '{}', 'name': 'sad'}, 'type': 'function'}]}, response_metadata={'token_usage': {'completion_tokens': 9, 'prompt_tokens': 421, 'total_tokens': 430, 'completion_time': 0.009371397, 'prompt_time': 0.034662887, 'queue_time': 0.050217503, 'total_time': 0.044034284}, 'model_name': 'llama-3.3-70b-versatile', 'system_fingerprint': 'fp_155ab82e98', 'service_tier': 'on_demand', 'finish_reason': 'tool_calls', 'logprobs': None}, id='run--982929f6-6bc8-4a7e-a789-4fa5cff232a4-0', tool_calls=[{'name': 'sad', 'args': {}, 'id': 'wsxcbb95p', 'type': 'tool_call'}], usage_metadata={'input_tokens': 421, 'output_tokens': 9, 'total_tokens': 430}),\n",
       " ToolMessage(content='I am sad', name='sad', tool_call_id='wsxcbb95p')]"
      ]
     },
     "execution_count": 32,
     "metadata": {},
     "output_type": "execute_result"
    }
   ],
   "source": [
    "# Execute the tool, append the response\n",
    "chat_history.append(tools_dict[response.tool_calls[0][\"name\"]].invoke(response.tool_calls[0]))\n",
    "chat_history"
   ]
  },
  {
   "cell_type": "code",
   "execution_count": 33,
   "id": "8658bb4e",
   "metadata": {},
   "outputs": [
    {
     "data": {
      "text/plain": [
       "[SystemMessage(content='You are a bot with emotions. Depending on the conversation, either respond the question, or show happy or sad emotions, or laugh with the situation', additional_kwargs={}, response_metadata={}),\n",
       " HumanMessage(content='What is the meaning of Life?', additional_kwargs={}, response_metadata={}),\n",
       " AIMessage(content='', additional_kwargs={'tool_calls': [{'id': 'j65wqj5gr', 'function': {'arguments': 'null', 'name': 'sad'}, 'type': 'function'}]}, response_metadata={'token_usage': {'completion_tokens': 8, 'prompt_tokens': 353, 'total_tokens': 361, 'completion_time': 0.025313139, 'prompt_time': 0.029232916, 'queue_time': 0.048897224, 'total_time': 0.054546055}, 'model_name': 'llama-3.3-70b-versatile', 'system_fingerprint': 'fp_155ab82e98', 'service_tier': 'on_demand', 'finish_reason': 'tool_calls', 'logprobs': None}, id='run--fcb74ff7-19d0-4b26-a738-16ca7ae6962f-0', tool_calls=[{'name': 'sad', 'args': {}, 'id': 'j65wqj5gr', 'type': 'tool_call'}], usage_metadata={'input_tokens': 353, 'output_tokens': 8, 'total_tokens': 361}),\n",
       " ToolMessage(content='I am sad', name='sad', tool_call_id='j65wqj5gr'),\n",
       " HumanMessage(content='Thankfully, I have a girlfriend', additional_kwargs={}, response_metadata={}),\n",
       " AIMessage(content='', additional_kwargs={'tool_calls': [{'id': '02n73na89', 'function': {'arguments': '{}', 'name': 'happy'}, 'type': 'function'}]}, response_metadata={'token_usage': {'completion_tokens': 9, 'prompt_tokens': 387, 'total_tokens': 396, 'completion_time': 0.017013776, 'prompt_time': 0.031866463, 'queue_time': 0.050063207, 'total_time': 0.048880239}, 'model_name': 'llama-3.3-70b-versatile', 'system_fingerprint': 'fp_155ab82e98', 'service_tier': 'on_demand', 'finish_reason': 'tool_calls', 'logprobs': None}, id='run--2c67064b-5ce6-482d-95d5-33988df576f0-0', tool_calls=[{'name': 'happy', 'args': {}, 'id': '02n73na89', 'type': 'tool_call'}], usage_metadata={'input_tokens': 387, 'output_tokens': 9, 'total_tokens': 396}),\n",
       " ToolMessage(content='I am happy', name='happy', tool_call_id='02n73na89'),\n",
       " HumanMessage(content='But she is unfaithful?', additional_kwargs={}, response_metadata={}),\n",
       " AIMessage(content='', additional_kwargs={'tool_calls': [{'id': 'wsxcbb95p', 'function': {'arguments': '{}', 'name': 'sad'}, 'type': 'function'}]}, response_metadata={'token_usage': {'completion_tokens': 9, 'prompt_tokens': 421, 'total_tokens': 430, 'completion_time': 0.009371397, 'prompt_time': 0.034662887, 'queue_time': 0.050217503, 'total_time': 0.044034284}, 'model_name': 'llama-3.3-70b-versatile', 'system_fingerprint': 'fp_155ab82e98', 'service_tier': 'on_demand', 'finish_reason': 'tool_calls', 'logprobs': None}, id='run--982929f6-6bc8-4a7e-a789-4fa5cff232a4-0', tool_calls=[{'name': 'sad', 'args': {}, 'id': 'wsxcbb95p', 'type': 'tool_call'}], usage_metadata={'input_tokens': 421, 'output_tokens': 9, 'total_tokens': 430}),\n",
       " AIMessage(content='', additional_kwargs={'tool_calls': [{'id': 'wsxcbb95p', 'function': {'arguments': '{}', 'name': 'sad'}, 'type': 'function'}]}, response_metadata={'token_usage': {'completion_tokens': 9, 'prompt_tokens': 421, 'total_tokens': 430, 'completion_time': 0.009371397, 'prompt_time': 0.034662887, 'queue_time': 0.050217503, 'total_time': 0.044034284}, 'model_name': 'llama-3.3-70b-versatile', 'system_fingerprint': 'fp_155ab82e98', 'service_tier': 'on_demand', 'finish_reason': 'tool_calls', 'logprobs': None}, id='run--982929f6-6bc8-4a7e-a789-4fa5cff232a4-0', tool_calls=[{'name': 'sad', 'args': {}, 'id': 'wsxcbb95p', 'type': 'tool_call'}], usage_metadata={'input_tokens': 421, 'output_tokens': 9, 'total_tokens': 430}),\n",
       " ToolMessage(content='I am sad', name='sad', tool_call_id='wsxcbb95p'),\n",
       " HumanMessage(content='Do I have a girlfriend?', additional_kwargs={}, response_metadata={}),\n",
       " AIMessage(content='No, you mentioned earlier that your girlfriend is unfaithful, implying that you do have a girlfriend, but the relationship is troubled.', additional_kwargs={}, response_metadata={'token_usage': {'completion_tokens': 28, 'prompt_tokens': 467, 'total_tokens': 495, 'completion_time': 0.095881122, 'prompt_time': 0.038420158, 'queue_time': 0.049843721, 'total_time': 0.13430128}, 'model_name': 'llama-3.3-70b-versatile', 'system_fingerprint': 'fp_155ab82e98', 'service_tier': 'on_demand', 'finish_reason': 'stop', 'logprobs': None}, id='run--e1602f25-1a76-43ad-b4bd-b99e4f19b323-0', usage_metadata={'input_tokens': 467, 'output_tokens': 28, 'total_tokens': 495})]"
      ]
     },
     "execution_count": 33,
     "metadata": {},
     "output_type": "execute_result"
    }
   ],
   "source": [
    "# lets see, if the model remebers the context\n",
    "chat_history.append(HumanMessage(content=\"Do I have a girlfriend?\"))\n",
    "response = llm_with_tools.invoke(chat_history)\n",
    "chat_history.append(response)\n",
    "chat_history"
   ]
  },
  {
   "cell_type": "code",
   "execution_count": null,
   "id": "d1c1a2b3",
   "metadata": {},
   "outputs": [],
   "source": []
  }
 ],
 "metadata": {
  "kernelspec": {
   "display_name": "langchain",
   "language": "python",
   "name": "python3"
  },
  "language_info": {
   "codemirror_mode": {
    "name": "ipython",
    "version": 3
   },
   "file_extension": ".py",
   "mimetype": "text/x-python",
   "name": "python",
   "nbconvert_exporter": "python",
   "pygments_lexer": "ipython3",
   "version": "3.13.5"
  }
 },
 "nbformat": 4,
 "nbformat_minor": 5
}
