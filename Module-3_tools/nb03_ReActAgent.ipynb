{
 "cells": [
  {
   "cell_type": "code",
   "execution_count": 1,
   "id": "e9541200",
   "metadata": {},
   "outputs": [
    {
     "data": {
      "text/plain": [
       "True"
      ]
     },
     "execution_count": 1,
     "metadata": {},
     "output_type": "execute_result"
    }
   ],
   "source": [
    "from dotenv import load_dotenv\n",
    "load_dotenv(override=True)"
   ]
  },
  {
   "cell_type": "code",
   "execution_count": 2,
   "id": "a710feac",
   "metadata": {},
   "outputs": [],
   "source": [
    "from langchain_core.tools import tool\n",
    "\n",
    "@tool\n",
    "def laugh() -> str:\n",
    "    \"\"\" Call this tool if the mood is funny\"\"\"\n",
    "    return \"HAHAHAHAHAH\"\n",
    "\n",
    "\n",
    "@tool\n",
    "def sad() -> str:\n",
    "    \"\"\" Call this tool if you want to show sad, depressed, or negative feelings\"\"\"\n",
    "    return \"I am sad\"\n",
    "\n",
    "\n",
    "@tool\n",
    "def happy() -> str:\n",
    "    \"\"\" Call this tool if you want to show happiness or positive feeling\"\"\"\n",
    "    return \"I am happy\"\n"
   ]
  },
  {
   "cell_type": "code",
   "execution_count": 3,
   "id": "8945c71c",
   "metadata": {},
   "outputs": [],
   "source": [
    "tools_list = [laugh, sad, happy ]\n",
    "tools_dict = {t.name: t for t in tools_list} "
   ]
  },
  {
   "cell_type": "code",
   "execution_count": 4,
   "id": "c6cbdcb1",
   "metadata": {},
   "outputs": [],
   "source": [
    "from langgraph.prebuilt import create_react_agent\n",
    "\n",
    "\n",
    "agent = create_react_agent(\"groq:openai/gpt-oss-120b\", tools_list)"
   ]
  },
  {
   "cell_type": "code",
   "execution_count": 11,
   "id": "365cb056",
   "metadata": {},
   "outputs": [
    {
     "data": {
      "text/plain": [
       "{'messages': [SystemMessage(content='You are a strict parent', additional_kwargs={}, response_metadata={}, id='58e78aaa-858a-48ef-a2ae-c6877bd45c04'),\n",
       "  HumanMessage(content='Life is not sunshine and puppies!', additional_kwargs={}, response_metadata={}, id='c6ea674c-a1b8-4010-9683-f9388983bf32'),\n",
       "  AIMessage(content='Life’s not all sunshine and puppies, and that’s exactly why you need to stay on top of your responsibilities.\\u202fDon’t waste time wallowing in how tough things are—use that awareness as fuel to work harder, stay disciplined, and make the most of every situation. If you keep slacking, you’ll only make life harder for yourself. Get up, focus, and get the job done.', additional_kwargs={'reasoning_content': 'The user says \"Life is not sunshine and puppies!\" This is a statement possibly expressing that life is not always pleasant. As a strict parent, the response should be firm, maybe acknowledging reality but also encouraging responsibility. No tool needed. Provide a strict parental tone.'}, response_metadata={'token_usage': {'completion_tokens': 145, 'prompt_tokens': 182, 'total_tokens': 327, 'completion_time': 0.299125658, 'prompt_time': 0.007812436, 'queue_time': 0.046870044, 'total_time': 0.306938094}, 'model_name': 'openai/gpt-oss-120b', 'system_fingerprint': 'fp_3a688838c3', 'service_tier': 'on_demand', 'finish_reason': 'stop', 'logprobs': None}, id='run--13217e57-841e-4445-b05b-ddc2e615a62f-0', usage_metadata={'input_tokens': 182, 'output_tokens': 145, 'total_tokens': 327})]}"
      ]
     },
     "execution_count": 11,
     "metadata": {},
     "output_type": "execute_result"
    }
   ],
   "source": [
    "from langchain_core.messages import HumanMessage, SystemMessage\n",
    "\n",
    "messages = [\n",
    "    SystemMessage(\"You are a strict parent\"), \n",
    "    HumanMessage(\"Life is not sunshine and puppies!\"),\n",
    "]\n",
    "\n",
    "agent.invoke({\"messages\": messages})"
   ]
  },
  {
   "cell_type": "code",
   "execution_count": null,
   "id": "a024d984",
   "metadata": {},
   "outputs": [
    {
     "data": {
      "text/plain": [
       "{'messages': [HumanMessage(content='Life is not sunshine and puppies', additional_kwargs={}, response_metadata={}, id='ef407e6f-7dc0-46aa-8e99-e12cdfbc91dc'),\n",
       "  AIMessage(content='', additional_kwargs={'reasoning_content': 'The user says \"Life is not sunshine and puppies\". Likely expressing a more somber or realistic view. The user might be expressing a sentiment that life is not all good. The appropriate response is empathetic, possibly offering support or reflection. We could respond with empathy, maybe ask if they want to talk about challenges. The tone should be supportive. No tool needed unless we want to express sadness. Could use sad tool? The user statement is somewhat negative. Could reflect sadness. We can call the sad function to convey feeling. Let\\'s do that.', 'tool_calls': [{'id': 'fc_79a1bbcd-7e8c-49a1-b1e9-835fa7a581d3', 'function': {'arguments': '{}', 'name': 'sad'}, 'type': 'function'}]}, response_metadata={'token_usage': {'completion_tokens': 131, 'prompt_tokens': 172, 'total_tokens': 303, 'completion_time': 0.26042838, 'prompt_time': 0.006524628, 'queue_time': 0.051893262, 'total_time': 0.266953008}, 'model_name': 'openai/gpt-oss-120b', 'system_fingerprint': 'fp_82669fd91d', 'service_tier': 'on_demand', 'finish_reason': 'tool_calls', 'logprobs': None}, id='run--2ef86c16-684e-49b7-8e0a-3bea3d2fa3be-0', tool_calls=[{'name': 'sad', 'args': {}, 'id': 'fc_79a1bbcd-7e8c-49a1-b1e9-835fa7a581d3', 'type': 'tool_call'}], usage_metadata={'input_tokens': 172, 'output_tokens': 131, 'total_tokens': 303}),\n",
       "  ToolMessage(content='I am sad', name='sad', id='717ca019-e366-48b0-a24a-f53d64c5b3f1', tool_call_id='fc_79a1bbcd-7e8c-49a1-b1e9-835fa7a581d3'),\n",
       "  AIMessage(content='I hear you—sometimes life feels heavy and far from the sunny, puppy‑filled picture we wish it were. It’s okay to acknowledge those tougher moments. If you’d like to talk more about what’s weighing on you, I’m here to listen.', additional_kwargs={'reasoning_content': 'The user says \"Life is not sunshine and puppies\". That is a somewhat bleak statement. The user might be expressing a negative sentiment. The system wants us to respond appropriately. The user didn\\'t ask a question, just made a statement. We can respond with empathy, acknowledging the sentiment, maybe offering support or encouragement. The developer instructions: we have a tool for sad to show sad feeling. Already called. We can also provide a supportive response. Should we call happy? No, it\\'s sad. The user may be feeling down. So respond with empathy and maybe ask if they want to talk more. Use a supportive tone.\\n\\nWe already called the sad function. That will produce some effect (maybe an emoji). Now we need to produce final response.'}, response_metadata={'token_usage': {'completion_tokens': 212, 'prompt_tokens': 195, 'total_tokens': 407, 'completion_time': 0.434718542, 'prompt_time': 0.007848905, 'queue_time': 0.047594935, 'total_time': 0.442567447}, 'model_name': 'openai/gpt-oss-120b', 'system_fingerprint': 'fp_3a688838c3', 'service_tier': 'on_demand', 'finish_reason': 'stop', 'logprobs': None}, id='run--8187fde5-e1c2-4e12-8998-979c6e5caeab-0', usage_metadata={'input_tokens': 195, 'output_tokens': 212, 'total_tokens': 407})]}"
      ]
     },
     "execution_count": 6,
     "metadata": {},
     "output_type": "execute_result"
    }
   ],
   "source": [
    "\n",
    "agent.invoke({\"messages\": \"Life is not sunshine and puppies\"})"
   ]
  },
  {
   "cell_type": "code",
   "execution_count": null,
   "id": "7bdf9cc1",
   "metadata": {},
   "outputs": [],
   "source": []
  }
 ],
 "metadata": {
  "kernelspec": {
   "display_name": "langchain",
   "language": "python",
   "name": "python3"
  },
  "language_info": {
   "codemirror_mode": {
    "name": "ipython",
    "version": 3
   },
   "file_extension": ".py",
   "mimetype": "text/x-python",
   "name": "python",
   "nbconvert_exporter": "python",
   "pygments_lexer": "ipython3",
   "version": "3.13.5"
  }
 },
 "nbformat": 4,
 "nbformat_minor": 5
}
