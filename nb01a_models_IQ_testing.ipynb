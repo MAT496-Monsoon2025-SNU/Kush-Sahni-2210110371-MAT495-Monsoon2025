{
 "cells": [
  {
   "cell_type": "code",
   "execution_count": 1,
   "id": "682c4c87",
   "metadata": {},
   "outputs": [
    {
     "data": {
      "text/plain": [
       "True"
      ]
     },
     "execution_count": 1,
     "metadata": {},
     "output_type": "execute_result"
    }
   ],
   "source": [
    "from dotenv import load_dotenv\n",
    "load_dotenv()"
   ]
  },
  {
   "cell_type": "code",
   "execution_count": 2,
   "id": "a0e461e5",
   "metadata": {},
   "outputs": [],
   "source": [
    "from langchain.chat_models import init_chat_model\n",
    "\n",
    "model = init_chat_model(\"llama3-8b-8192\", model_provider=\"groq\")"
   ]
  },
  {
   "cell_type": "code",
   "execution_count": 3,
   "id": "8b215da3",
   "metadata": {},
   "outputs": [],
   "source": [
    "# invoking to build a converstation style call\n",
    "\n",
    "response = model.invoke(\"Suggest a question to test someone's IQ. Also give the answer.\")"
   ]
  },
  {
   "cell_type": "code",
   "execution_count": 4,
   "id": "bd612474",
   "metadata": {},
   "outputs": [
    {
     "data": {
      "text/plain": [
       "AIMessage(content='Here\\'s a classic IQ test question:\\n\\n**Question:** A bat and a ball together cost $1.10. The bat costs $1.00 more than the ball. How much does the ball cost?\\n\\n**Answer:** The ball costs $0.05.\\n\\nHere\\'s the solution:\\n\\nLet\\'s say the ball costs x cents. Then, the bat costs x + $1.00 (since it costs $1.00 more than the ball).\\n\\nThe total cost of the bat and the ball together is $1.10, so we can set up the equation:\\n\\nx + (x + $1.00) = $1.10\\n\\nCombine like terms:\\n\\n2x + $1.00 = $1.10\\n\\nSubtract $1.00 from both sides:\\n\\n2x = $0.10\\n\\nDivide both sides by 2:\\n\\nx = $0.05\\n\\nTherefore, the ball costs $0.05.\\n\\nThis question is designed to test logical reasoning, mathematical problem-solving skills, and attention to detail. It\\'s a classic example of a \"lateral thinking\" puzzle, which requires you to think creatively and make connections between seemingly unrelated ideas.', additional_kwargs={}, response_metadata={'token_usage': {'completion_tokens': 239, 'prompt_tokens': 25, 'total_tokens': 264, 'completion_time': 0.223372766, 'prompt_time': 0.012173363, 'queue_time': 0.143590565, 'total_time': 0.235546129}, 'model_name': 'llama3-8b-8192', 'system_fingerprint': 'fp_4b5fbf0ced', 'service_tier': 'on_demand', 'finish_reason': 'stop', 'logprobs': None}, id='run--67ed09ce-0511-4f00-8b68-009e7978d4fc-0', usage_metadata={'input_tokens': 25, 'output_tokens': 239, 'total_tokens': 264})"
      ]
     },
     "execution_count": 4,
     "metadata": {},
     "output_type": "execute_result"
    }
   ],
   "source": [
    "response"
   ]
  },
  {
   "cell_type": "code",
   "execution_count": 5,
   "id": "a444466b",
   "metadata": {},
   "outputs": [
    {
     "name": "stdout",
     "output_type": "stream",
     "text": [
      "Here's a classic IQ test question:\n",
      "\n",
      "**Question:** A bat and a ball together cost $1.10. The bat costs $1.00 more than the ball. How much does the ball cost?\n",
      "\n",
      "**Answer:** The ball costs $0.05.\n",
      "\n",
      "Here's the solution:\n",
      "\n",
      "Let's say the ball costs x cents. Then, the bat costs x + $1.00 (since it costs $1.00 more than the ball).\n",
      "\n",
      "The total cost of the bat and the ball together is $1.10, so we can set up the equation:\n",
      "\n",
      "x + (x + $1.00) = $1.10\n",
      "\n",
      "Combine like terms:\n",
      "\n",
      "2x + $1.00 = $1.10\n",
      "\n",
      "Subtract $1.00 from both sides:\n",
      "\n",
      "2x = $0.10\n",
      "\n",
      "Divide both sides by 2:\n",
      "\n",
      "x = $0.05\n",
      "\n",
      "Therefore, the ball costs $0.05.\n",
      "\n",
      "This question is designed to test logical reasoning, mathematical problem-solving skills, and attention to detail. It's a classic example of a \"lateral thinking\" puzzle, which requires you to think creatively and make connections between seemingly unrelated ideas.\n"
     ]
    }
   ],
   "source": [
    "print(response.content)"
   ]
  },
  {
   "cell_type": "code",
   "execution_count": 6,
   "id": "25606b23",
   "metadata": {},
   "outputs": [
    {
     "name": "stdout",
     "output_type": "stream",
     "text": [
      "To solve this, let's break it down step by step:\n",
      "\n",
      "1. The snail climbs 3 feet up during the day and slips 2 feet back at night, so the net progress each day is 3 - 2 = 1 foot.\n",
      "\n",
      "2. Since the well is 40 feet deep, and the snail makes a net progress of 1 foot per day, we might initially think it takes 40 days to reach the top. However, on the final day of climbing, the snail won't slip back because it will have reached the top.\n",
      "\n",
      "3. Let's calculate the days it takes to reach the point where the snail can climb out on its final day. Since the snail climbs 3 feet during the day, it needs to be at a point where climbing 3 feet will take it to or past the top of the 40-foot well. This means it needs to be at 40 - 3 = 37 feet to ensure that on its final climb, it reaches the top.\n",
      "\n",
      "4. Since the snail makes a net progress of 1 foot per day, to get to 37 feet, it would take 37 days (because 37 feet / 1 foot per day = 37 days).\n",
      "\n",
      "5. After reaching 37 feet on the 37th day, on the 38th day, when it climbs 3 feet, it will reach 40 feet and thus be out of the well.\n",
      "\n",
      "Therefore, it will take the snail 38 days to reach the top of the well.\n"
     ]
    }
   ],
   "source": [
    "# Lets test another model if they can solve this problem\n",
    "\n",
    "from langchain.chat_models import init_chat_model\n",
    "\n",
    "model = init_chat_model(\"llama-3.3-70b-versatile\", model_provider=\"groq\")\n",
    "\n",
    "response = model.invoke(\"A snail is at the bottom of a 40-foot well. Each day, it climbs up 3 feet, but at night, it slips back 2 feet. How many days will it take for the snail to reach the top of the well?\")\n",
    "\n",
    "print(response.content)"
   ]
  },
  {
   "cell_type": "code",
   "execution_count": null,
   "id": "4a9c12bf",
   "metadata": {},
   "outputs": [],
   "source": []
  }
 ],
 "metadata": {
  "kernelspec": {
   "display_name": "langchain",
   "language": "python",
   "name": "python3"
  },
  "language_info": {
   "codemirror_mode": {
    "name": "ipython",
    "version": 3
   },
   "file_extension": ".py",
   "mimetype": "text/x-python",
   "name": "python",
   "nbconvert_exporter": "python",
   "pygments_lexer": "ipython3",
   "version": "3.13.5"
  }
 },
 "nbformat": 4,
 "nbformat_minor": 5
}
