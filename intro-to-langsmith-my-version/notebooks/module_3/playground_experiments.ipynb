{
 "cells": [
  {
   "cell_type": "markdown",
   "metadata": {},
   "source": [
    "# Run Experiments in Playground"
   ]
  },
  {
   "cell_type": "markdown",
   "metadata": {},
   "source": [
    "### Setup"
   ]
  },
  {
   "cell_type": "code",
   "execution_count": 1,
   "metadata": {},
   "outputs": [],
   "source": [
    "# You can set them inline\n",
    "import os\n",
    "os.environ[\"LANGSMITH_API_KEY\"] = \"\""
   ]
  },
  {
   "cell_type": "code",
   "execution_count": 2,
   "metadata": {},
   "outputs": [
    {
     "data": {
      "text/plain": [
       "True"
      ]
     },
     "execution_count": 2,
     "metadata": {},
     "output_type": "execute_result"
    }
   ],
   "source": [
    "# Or you can use a .env file\n",
    "from dotenv import load_dotenv\n",
    "load_dotenv(dotenv_path=\"../../.env\", override=True)"
   ]
  },
  {
   "cell_type": "markdown",
   "metadata": {},
   "source": [
    "### Create a Dataset"
   ]
  },
  {
   "cell_type": "markdown",
   "metadata": {},
   "source": [
    "Let's create a toy example dataset to run experiments over for a prompt"
   ]
  },
  {
   "cell_type": "code",
   "execution_count": 3,
   "metadata": {},
   "outputs": [
    {
     "data": {
      "text/plain": [
       "{'example_ids': ['84c36656-160f-4a8d-9ec3-73a7c633fef5',\n",
       "  '7bc95624-ea55-4838-a13f-88251f20c88f',\n",
       "  '44cd61a7-4a40-40da-9208-7ce2ee0b3e3e',\n",
       "  '2620c945-ae29-45bb-87e0-798b43bf6137',\n",
       "  '7987f0c4-796a-46d2-8970-df288d9f9405',\n",
       "  'd0a5f896-abd5-472a-9316-036835ac7f9d',\n",
       "  '054bc7d9-319b-48e3-9f6c-03797e252ea7',\n",
       "  'e49615d1-d17b-40a9-bda7-c923ec4a0033',\n",
       "  'db299f1f-2471-4054-83a3-bbf87c68f1ec',\n",
       "  'f9e4899e-60e2-4218-b925-29c598c2197b',\n",
       "  'e605acc1-dcce-4bb0-910f-fa0108a9e841',\n",
       "  '0cb6532c-e7eb-474a-9162-4a50a6feced3'],\n",
       " 'count': 12}"
      ]
     },
     "execution_count": 3,
     "metadata": {},
     "output_type": "execute_result"
    }
   ],
   "source": [
    "from langsmith import Client\n",
    "\n",
    "example_inputs = [\n",
    "    (\"I have cities, but no houses. I have mountains, but no trees. I have water, but no fish. What am I?\", \"A map\"),\n",
    "    (\"What is a group of flamingos called?\", \"A flamboyance\"),\n",
    "    (\"What has to be broken before you can use it?\", \"An egg\"),\n",
    "    (\"On which planet might it rain diamonds?\", \"On Neptune and Uranus\"),\n",
    "    (\"What do you call a fake noodle?\", \"An impasta\"),\n",
    "    (\"How long can a snail sleep for?\", \"Up to three years\"),\n",
    "    (\"What is full of holes but still holds water?\", \"A sponge\"),\n",
    "    (\"What smells like seared steak and hot metal?\", \"Outer space, according to astronauts\"),\n",
    "    (\"What animal's fingerprints are nearly identical to a human's?\", \"A koala's\"),\n",
    "    (\"I have an eye but cannot see. What am I?\", \"A needle\"),\n",
    "    (\"What gets wetter as it dries?\", \"A towel\"),\n",
    "    (\"What fruit is technically a berry, while a strawberry is not?\", \"A banana\"),\n",
    "]\n",
    "\n",
    "client = Client()\n",
    "dataset_name = \"Sample Questions\"\n",
    "\n",
    "dataset = client.create_dataset(\n",
    "  dataset_name=dataset_name, description=\"Sample questions about color\",\n",
    ")\n",
    "\n",
    "inputs = [{\"question\": input_prompt} for input_prompt, _ in example_inputs]\n",
    "outputs = [{\"output\": output_answer} for _, output_answer in example_inputs]\n",
    "\n",
    "client.create_examples(\n",
    "  inputs=inputs,\n",
    "  outputs=outputs,\n",
    "  dataset_id=dataset.id,\n",
    ")"
   ]
  }
 ],
 "metadata": {
  "kernelspec": {
   "display_name": "langchain",
   "language": "python",
   "name": "python3"
  },
  "language_info": {
   "codemirror_mode": {
    "name": "ipython",
    "version": 3
   },
   "file_extension": ".py",
   "mimetype": "text/x-python",
   "name": "python",
   "nbconvert_exporter": "python",
   "pygments_lexer": "ipython3",
   "version": "3.13.5"
  }
 },
 "nbformat": 4,
 "nbformat_minor": 4
}
